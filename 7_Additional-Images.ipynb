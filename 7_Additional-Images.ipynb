{
 "cells": [
  {
   "cell_type": "markdown",
   "id": "3d620e8d",
   "metadata": {},
   "source": [
    "# Additional Images"
   ]
  },
  {
   "cell_type": "code",
   "execution_count": 16,
   "id": "c9cc330b",
   "metadata": {},
   "outputs": [],
   "source": [
    "import spacy, sys\n",
    "from spacy import displacy\n",
    "from IPython.core.display import display, HTML\n",
    "\n",
    "nlp = spacy.load(\"en_core_web_sm\")\n",
    "\n",
    "# Declare directory.\n",
    "abs_dir = \"/Users/williamquinn/Documents/DH/\""
   ]
  },
  {
   "cell_type": "markdown",
   "id": "e7c87319",
   "metadata": {},
   "source": [
    "## Dependency Tree"
   ]
  },
  {
   "cell_type": "code",
   "execution_count": 24,
   "id": "d4a9944c",
   "metadata": {},
   "outputs": [
    {
     "name": "stdout",
     "output_type": "stream",
     "text": [
      "CPU times: user 19.6 ms, sys: 4.43 ms, total: 24 ms\n",
      "Wall time: 23.2 ms\n"
     ]
    }
   ],
   "source": [
    "%%time\n",
    "\n",
    "doc = nlp(\"Bondwomen are the women who are not separate spiritual entities—who are not individuals.\")\n",
    "\n",
    "svg = displacy.render(doc, style='dep', page = True, minify = True, jupyter = False)\n",
    "\n",
    "with open(abs_dir + 'GitHub/DH2022_SemanticEmergence/images/sentence.png', \"w\", encoding=\"utf-8\") as f:\n",
    "    f.write(svg)"
   ]
  },
  {
   "cell_type": "code",
   "execution_count": null,
   "id": "85c20ee9",
   "metadata": {},
   "outputs": [],
   "source": []
  }
 ],
 "metadata": {
  "kernelspec": {
   "display_name": "Python 3",
   "language": "python",
   "name": "python3"
  },
  "language_info": {
   "codemirror_mode": {
    "name": "ipython",
    "version": 3
   },
   "file_extension": ".py",
   "mimetype": "text/x-python",
   "name": "python",
   "nbconvert_exporter": "python",
   "pygments_lexer": "ipython3",
   "version": "3.8.12"
  }
 },
 "nbformat": 4,
 "nbformat_minor": 5
}
