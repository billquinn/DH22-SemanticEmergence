{
 "cells": [
  {
   "cell_type": "markdown",
   "id": "00b07f75",
   "metadata": {},
   "source": [
    "# Betweenness Ranking of All Magazines"
   ]
  },
  {
   "cell_type": "code",
   "execution_count": 1,
   "id": "c8ce811f",
   "metadata": {},
   "outputs": [
    {
     "name": "stderr",
     "output_type": "stream",
     "text": [
      "/Users/williamquinn/opt/anaconda3/lib/python3.8/site-packages/gensim/similarities/__init__.py:15: UserWarning: The gensim.similarities.levenshtein submodule is disabled, because the optional Levenshtein package <https://pypi.org/project/python-Levenshtein/> is unavailable. Install Levenhstein (e.g. `pip install python-Levenshtein`) to suppress this warning.\n",
      "  warnings.warn(msg)\n"
     ]
    }
   ],
   "source": [
    "import os, string, warnings, glob, gensim, re, itertools, math, json\n",
    "import pandas as pd\n",
    "import numpy as np\n",
    "import seaborn as sns\n",
    "import matplotlib.pyplot as plt\n",
    "from operator import itemgetter\n",
    "from collections import Counter\n",
    "\n",
    "# Network libraries.\n",
    "import networkx as nx\n",
    "from networkx.algorithms import community\n",
    "from networkx.readwrite import json_graph\n",
    "\n",
    "# Ignore warnings.\n",
    "warnings.simplefilter(\"ignore\")\n",
    "\n",
    "# Declare directory.\n",
    "abs_dir = \"/Users/williamquinn/Documents/DH/\""
   ]
  },
  {
   "cell_type": "markdown",
   "id": "d876cedb",
   "metadata": {},
   "source": [
    "## Import Data"
   ]
  },
  {
   "cell_type": "code",
   "execution_count": 2,
   "id": "625f1f93",
   "metadata": {},
   "outputs": [
    {
     "name": "stdout",
     "output_type": "stream",
     "text": [
      "CPU times: user 1.91 s, sys: 63.4 ms, total: 1.98 s\n",
      "Wall time: 2.03 s\n"
     ]
    },
    {
     "data": {
      "text/html": [
       "<div>\n",
       "<style scoped>\n",
       "    .dataframe tbody tr th:only-of-type {\n",
       "        vertical-align: middle;\n",
       "    }\n",
       "\n",
       "    .dataframe tbody tr th {\n",
       "        vertical-align: top;\n",
       "    }\n",
       "\n",
       "    .dataframe thead th {\n",
       "        text-align: right;\n",
       "    }\n",
       "</style>\n",
       "<table border=\"1\" class=\"dataframe\">\n",
       "  <thead>\n",
       "    <tr style=\"text-align: right;\">\n",
       "      <th></th>\n",
       "      <th>meta_mjp_id</th>\n",
       "      <th>meta_magazine</th>\n",
       "      <th>meta_type</th>\n",
       "      <th>meta_date</th>\n",
       "      <th>meta_year</th>\n",
       "      <th>vector</th>\n",
       "      <th>keyword</th>\n",
       "      <th>mean</th>\n",
       "      <th>count</th>\n",
       "      <th>std</th>\n",
       "      <th>ci_hi</th>\n",
       "      <th>ci_lo</th>\n",
       "    </tr>\n",
       "  </thead>\n",
       "  <tbody>\n",
       "    <tr>\n",
       "      <th>0</th>\n",
       "      <td>4</td>\n",
       "      <td>The Little Review</td>\n",
       "      <td>articles</td>\n",
       "      <td>1914-12-01</td>\n",
       "      <td>1914</td>\n",
       "      <td>4_man</td>\n",
       "      <td>man</td>\n",
       "      <td>0.592083</td>\n",
       "      <td>41</td>\n",
       "      <td>0.023471</td>\n",
       "      <td>0.599268</td>\n",
       "      <td>0.584899</td>\n",
       "    </tr>\n",
       "    <tr>\n",
       "      <th>1</th>\n",
       "      <td>4</td>\n",
       "      <td>The Little Review</td>\n",
       "      <td>articles</td>\n",
       "      <td>1914-12-01</td>\n",
       "      <td>1914</td>\n",
       "      <td>4_woman</td>\n",
       "      <td>woman</td>\n",
       "      <td>0.724316</td>\n",
       "      <td>41</td>\n",
       "      <td>0.019561</td>\n",
       "      <td>0.730303</td>\n",
       "      <td>0.718328</td>\n",
       "    </tr>\n",
       "    <tr>\n",
       "      <th>2</th>\n",
       "      <td>4</td>\n",
       "      <td>The Little Review</td>\n",
       "      <td>articles</td>\n",
       "      <td>1914-12-01</td>\n",
       "      <td>1914</td>\n",
       "      <td>4_man</td>\n",
       "      <td>man</td>\n",
       "      <td>0.592083</td>\n",
       "      <td>41</td>\n",
       "      <td>0.023471</td>\n",
       "      <td>0.599268</td>\n",
       "      <td>0.584899</td>\n",
       "    </tr>\n",
       "    <tr>\n",
       "      <th>3</th>\n",
       "      <td>4</td>\n",
       "      <td>The Little Review</td>\n",
       "      <td>articles</td>\n",
       "      <td>1914-12-01</td>\n",
       "      <td>1914</td>\n",
       "      <td>4_woman</td>\n",
       "      <td>woman</td>\n",
       "      <td>0.724316</td>\n",
       "      <td>41</td>\n",
       "      <td>0.019561</td>\n",
       "      <td>0.730303</td>\n",
       "      <td>0.718328</td>\n",
       "    </tr>\n",
       "    <tr>\n",
       "      <th>4</th>\n",
       "      <td>6</td>\n",
       "      <td>The Little Review</td>\n",
       "      <td>articles</td>\n",
       "      <td>1914-12-01</td>\n",
       "      <td>1914</td>\n",
       "      <td>6_man</td>\n",
       "      <td>man</td>\n",
       "      <td>0.538298</td>\n",
       "      <td>41</td>\n",
       "      <td>0.018144</td>\n",
       "      <td>0.543852</td>\n",
       "      <td>0.532744</td>\n",
       "    </tr>\n",
       "  </tbody>\n",
       "</table>\n",
       "</div>"
      ],
      "text/plain": [
       "   meta_mjp_id      meta_magazine meta_type   meta_date  meta_year   vector  \\\n",
       "0            4  The Little Review  articles  1914-12-01       1914    4_man   \n",
       "1            4  The Little Review  articles  1914-12-01       1914  4_woman   \n",
       "2            4  The Little Review  articles  1914-12-01       1914    4_man   \n",
       "3            4  The Little Review  articles  1914-12-01       1914  4_woman   \n",
       "4            6  The Little Review  articles  1914-12-01       1914    6_man   \n",
       "\n",
       "  keyword      mean  count       std     ci_hi     ci_lo  \n",
       "0     man  0.592083     41  0.023471  0.599268  0.584899  \n",
       "1   woman  0.724316     41  0.019561  0.730303  0.718328  \n",
       "2     man  0.592083     41  0.023471  0.599268  0.584899  \n",
       "3   woman  0.724316     41  0.019561  0.730303  0.718328  \n",
       "4     man  0.538298     41  0.018144  0.543852  0.532744  "
      ]
     },
     "execution_count": 2,
     "metadata": {},
     "output_type": "execute_result"
    }
   ],
   "source": [
    "%%time\n",
    "\n",
    "# Import model.\n",
    "model = gensim.models.KeyedVectors.load_word2vec_format(abs_dir + 'Python/MJP/Word-Doc_Vectors/Models/mjp_w2v.txt')\n",
    "\n",
    "# Import dataframe.\n",
    "data = pd.read_csv(abs_dir + 'GitHub/DH2022_SemanticEmergence/Data_Outputs/new-vectors_CI.csv', \n",
    "                   sep = '\\t')\n",
    "\n",
    "data = data.query('(meta_type == \"articles\")')\n",
    "\n",
    "data.head()"
   ]
  },
  {
   "cell_type": "markdown",
   "id": "6c64ee95",
   "metadata": {},
   "source": [
    "## Build Network Dataframe"
   ]
  },
  {
   "cell_type": "code",
   "execution_count": 3,
   "id": "e3028910",
   "metadata": {},
   "outputs": [
    {
     "name": "stdout",
     "output_type": "stream",
     "text": [
      "(5431230, 3)\n",
      "CPU times: user 31min 5s, sys: 15.7 s, total: 31min 21s\n",
      "Wall time: 31min 34s\n"
     ]
    },
    {
     "data": {
      "text/html": [
       "<div>\n",
       "<style scoped>\n",
       "    .dataframe tbody tr th:only-of-type {\n",
       "        vertical-align: middle;\n",
       "    }\n",
       "\n",
       "    .dataframe tbody tr th {\n",
       "        vertical-align: top;\n",
       "    }\n",
       "\n",
       "    .dataframe thead th {\n",
       "        text-align: right;\n",
       "    }\n",
       "</style>\n",
       "<table border=\"1\" class=\"dataframe\">\n",
       "  <thead>\n",
       "    <tr style=\"text-align: right;\">\n",
       "      <th></th>\n",
       "      <th>source</th>\n",
       "      <th>target</th>\n",
       "      <th>weight</th>\n",
       "    </tr>\n",
       "  </thead>\n",
       "  <tbody>\n",
       "    <tr>\n",
       "      <th>0</th>\n",
       "      <td>4_man</td>\n",
       "      <td>4_man</td>\n",
       "      <td>1.000000</td>\n",
       "    </tr>\n",
       "    <tr>\n",
       "      <th>1</th>\n",
       "      <td>4_man</td>\n",
       "      <td>4_woman</td>\n",
       "      <td>0.578643</td>\n",
       "    </tr>\n",
       "    <tr>\n",
       "      <th>4</th>\n",
       "      <td>4_man</td>\n",
       "      <td>6_man</td>\n",
       "      <td>0.602884</td>\n",
       "    </tr>\n",
       "    <tr>\n",
       "      <th>5</th>\n",
       "      <td>4_man</td>\n",
       "      <td>6_woman</td>\n",
       "      <td>0.408171</td>\n",
       "    </tr>\n",
       "    <tr>\n",
       "      <th>8</th>\n",
       "      <td>4_man</td>\n",
       "      <td>8_man</td>\n",
       "      <td>0.689452</td>\n",
       "    </tr>\n",
       "  </tbody>\n",
       "</table>\n",
       "</div>"
      ],
      "text/plain": [
       "  source   target    weight\n",
       "0  4_man    4_man  1.000000\n",
       "1  4_man  4_woman  0.578643\n",
       "4  4_man    6_man  0.602884\n",
       "5  4_man  6_woman  0.408171\n",
       "8  4_man    8_man  0.689452"
      ]
     },
     "execution_count": 3,
     "metadata": {},
     "output_type": "execute_result"
    }
   ],
   "source": [
    "%%time\n",
    "\n",
    "edges = []\n",
    "\n",
    "# Gather doc-to-doc similarities.\n",
    "for idx, row in data.iterrows():\n",
    "    source = row['vector']\n",
    "    \n",
    "    for sidx, srow in data.iterrows():\n",
    "        target = srow['vector']\n",
    "        weight = model.similarity(source, target)\n",
    "        \n",
    "        edges.append((source, target, weight))\n",
    "        \n",
    "edges = pd.DataFrame(edges, columns = ('source', 'target', 'weight'))\n",
    "\n",
    "# Gather doc-to-keyword similarities & append.\n",
    "keywords = data[['vector', 'keyword', 'mean']]\n",
    "keywords = keywords.rename(columns = {'vector': 'source', 'keyword':'target', 'mean':'weight'})\n",
    "\n",
    "edges = pd.concat([edges, keywords], ignore_index = True).drop_duplicates()\n",
    "\n",
    "print (edges.shape)\n",
    "edges.head()"
   ]
  },
  {
   "cell_type": "markdown",
   "id": "5067c565",
   "metadata": {},
   "source": [
    "### Filter Edges by Date"
   ]
  },
  {
   "cell_type": "code",
   "execution_count": 4,
   "id": "83f60a0c",
   "metadata": {},
   "outputs": [
    {
     "name": "stdout",
     "output_type": "stream",
     "text": [
      "(2697134, 5)\n",
      "CPU times: user 13.1 s, sys: 1.89 s, total: 15 s\n",
      "Wall time: 15.3 s\n"
     ]
    },
    {
     "data": {
      "text/html": [
       "<div>\n",
       "<style scoped>\n",
       "    .dataframe tbody tr th:only-of-type {\n",
       "        vertical-align: middle;\n",
       "    }\n",
       "\n",
       "    .dataframe tbody tr th {\n",
       "        vertical-align: top;\n",
       "    }\n",
       "\n",
       "    .dataframe thead th {\n",
       "        text-align: right;\n",
       "    }\n",
       "</style>\n",
       "<table border=\"1\" class=\"dataframe\">\n",
       "  <thead>\n",
       "    <tr style=\"text-align: right;\">\n",
       "      <th></th>\n",
       "      <th>source</th>\n",
       "      <th>target</th>\n",
       "      <th>weight</th>\n",
       "      <th>source_date</th>\n",
       "      <th>target_date</th>\n",
       "    </tr>\n",
       "  </thead>\n",
       "  <tbody>\n",
       "    <tr>\n",
       "      <th>28</th>\n",
       "      <td>33_man</td>\n",
       "      <td>4_man</td>\n",
       "      <td>0.694262</td>\n",
       "      <td>1911-03-01</td>\n",
       "      <td>1914-12-01</td>\n",
       "    </tr>\n",
       "    <tr>\n",
       "      <th>30</th>\n",
       "      <td>33_woman</td>\n",
       "      <td>4_man</td>\n",
       "      <td>0.448905</td>\n",
       "      <td>1911-03-01</td>\n",
       "      <td>1914-12-01</td>\n",
       "    </tr>\n",
       "    <tr>\n",
       "      <th>32</th>\n",
       "      <td>39_man</td>\n",
       "      <td>4_man</td>\n",
       "      <td>0.664807</td>\n",
       "      <td>1911-03-01</td>\n",
       "      <td>1914-12-01</td>\n",
       "    </tr>\n",
       "    <tr>\n",
       "      <th>34</th>\n",
       "      <td>41_man</td>\n",
       "      <td>4_man</td>\n",
       "      <td>0.649506</td>\n",
       "      <td>1911-03-01</td>\n",
       "      <td>1914-12-01</td>\n",
       "    </tr>\n",
       "    <tr>\n",
       "      <th>36</th>\n",
       "      <td>43_man</td>\n",
       "      <td>4_man</td>\n",
       "      <td>0.725877</td>\n",
       "      <td>1911-03-01</td>\n",
       "      <td>1914-12-01</td>\n",
       "    </tr>\n",
       "  </tbody>\n",
       "</table>\n",
       "</div>"
      ],
      "text/plain": [
       "      source target    weight source_date target_date\n",
       "28    33_man  4_man  0.694262  1911-03-01  1914-12-01\n",
       "30  33_woman  4_man  0.448905  1911-03-01  1914-12-01\n",
       "32    39_man  4_man  0.664807  1911-03-01  1914-12-01\n",
       "34    41_man  4_man  0.649506  1911-03-01  1914-12-01\n",
       "36    43_man  4_man  0.725877  1911-03-01  1914-12-01"
      ]
     },
     "execution_count": 4,
     "metadata": {},
     "output_type": "execute_result"
    }
   ],
   "source": [
    "%%time\n",
    "\n",
    "dates = data[['meta_date', 'vector']].rename(columns = {'vector': 'source', 'meta_date':'source_date'})\n",
    "edges = pd.merge(edges, dates, how = 'inner').drop_duplicates()\n",
    "\n",
    "dates = dates.rename(columns = {'source': 'target', 'source_date':'target_date'})\n",
    "edges = pd.merge(edges, dates, how = 'inner').drop_duplicates()\n",
    "    \n",
    "edges = edges.query('source_date < target_date')\n",
    "\n",
    "del dates\n",
    "\n",
    "print (edges.shape)\n",
    "edges.head()"
   ]
  },
  {
   "cell_type": "markdown",
   "id": "a217196d",
   "metadata": {},
   "source": [
    "### Filter Edges by Weight"
   ]
  },
  {
   "cell_type": "code",
   "execution_count": 5,
   "id": "40951844",
   "metadata": {},
   "outputs": [
    {
     "data": {
      "image/png": "[encoded data removed]",
      "text/plain": [
       "<Figure size 640x480 with 1 Axes>"
      ]
     },
     "metadata": {},
     "output_type": "display_data"
    },
    {
     "name": "stdout",
     "output_type": "stream",
     "text": [
      "CPU times: user 535 ms, sys: 94.5 ms, total: 629 ms\n",
      "Wall time: 683 ms\n"
     ]
    }
   ],
   "source": [
    "%%time\n",
    "\n",
    "# Filter out weaker connections.\n",
    "edges = edges.query('(source != target) & (weight >= 0.7) & (weight < 1.000000)')\n",
    "\n",
    "plt.hist(edges['weight'], 10)\n",
    "plt.show()"
   ]
  },
  {
   "cell_type": "markdown",
   "id": "1928dfc3",
   "metadata": {},
   "source": [
    "## Build Graph Object"
   ]
  },
  {
   "cell_type": "code",
   "execution_count": 6,
   "id": "2d1b54c1",
   "metadata": {},
   "outputs": [
    {
     "name": "stdout",
     "output_type": "stream",
     "text": [
      "Graph with 2323 nodes and 1592999 edges\n",
      "CPU times: user 5.9 s, sys: 201 ms, total: 6.1 s\n",
      "Wall time: 6.12 s\n"
     ]
    }
   ],
   "source": [
    "%%time\n",
    "\n",
    "# Initialize graph object.\n",
    "G = nx.from_pandas_edgelist(edges, 'source', 'target', ['weight'])\n",
    "\n",
    "# Add nodes.\n",
    "nodes = list( dict.fromkeys( edges['source'].values.tolist() + edges['target'].values.tolist() ))\n",
    "nodes = pd.DataFrame(nodes, columns = ['source'])\n",
    "G.add_nodes_from(nodes)\n",
    "\n",
    "print (nx.info(G))"
   ]
  },
  {
   "cell_type": "markdown",
   "id": "3764a5f9",
   "metadata": {},
   "source": [
    "### Assign Node Attributes"
   ]
  },
  {
   "cell_type": "code",
   "execution_count": 7,
   "id": "6b4272c3",
   "metadata": {},
   "outputs": [
    {
     "name": "stdout",
     "output_type": "stream",
     "text": [
      "...degrees assigned\n",
      "...betweenness measured\n",
      "...eigenvector measured\n",
      "...centrality measured\n",
      "CPU times: user 22min 29s, sys: 1.93 s, total: 22min 31s\n",
      "Wall time: 22min 34s\n"
     ]
    }
   ],
   "source": [
    "%%time\n",
    "\n",
    "# Set degree attributes.\n",
    "nx.set_node_attributes(G, dict(G.degree(G.nodes())), 'degree') \n",
    "print ('...degrees assigned')\n",
    "\n",
    "# Find centrality measures.\n",
    "betweenness_dict = nx.betweenness_centrality(G)\n",
    "print ('...betweenness measured')\n",
    "eigenvector_dict = nx.eigenvector_centrality(G)\n",
    "print ('...eigenvector measured')\n",
    "degree_cent_dict = nx.degree_centrality(G)\n",
    "print ('...centrality measured')\n",
    "\n",
    "# Assign centrality measures.\n",
    "nx.set_node_attributes(G, betweenness_dict, 'betweenness')\n",
    "nx.set_node_attributes(G, eigenvector_dict, 'eigenvector')\n",
    "nx.set_node_attributes(G, degree_cent_dict, 'degree_cent')"
   ]
  },
  {
   "cell_type": "markdown",
   "id": "a379ba76",
   "metadata": {},
   "source": [
    "### Add Metadata as Node Attributes"
   ]
  },
  {
   "cell_type": "code",
   "execution_count": 8,
   "id": "6f73d6fa",
   "metadata": {},
   "outputs": [
    {
     "name": "stdout",
     "output_type": "stream",
     "text": [
      "CPU times: user 49 s, sys: 54.2 ms, total: 49 s\n",
      "Wall time: 49.1 s\n"
     ]
    }
   ],
   "source": [
    "%%time\n",
    "\n",
    "# Assign node metadata.\n",
    "for c in data.columns:\n",
    "    c_dict = {}\n",
    "    col_name = str(c).replace('meta_', '')\n",
    "    \n",
    "    for r in data.itertuples():    \n",
    "        c_dict[ r.vector ] = getattr(r, c)\n",
    "        \n",
    "        nx.set_node_attributes(G, c_dict, col_name)"
   ]
  },
  {
   "cell_type": "markdown",
   "id": "bcdc1789",
   "metadata": {},
   "source": [
    "## Centrality Measures"
   ]
  },
  {
   "cell_type": "code",
   "execution_count": 9,
   "id": "d457c2e1",
   "metadata": {},
   "outputs": [
    {
     "data": {
      "text/html": [
       "<div>\n",
       "<style scoped>\n",
       "    .dataframe tbody tr th:only-of-type {\n",
       "        vertical-align: middle;\n",
       "    }\n",
       "\n",
       "    .dataframe tbody tr th {\n",
       "        vertical-align: top;\n",
       "    }\n",
       "\n",
       "    .dataframe thead th {\n",
       "        text-align: right;\n",
       "    }\n",
       "</style>\n",
       "<table border=\"1\" class=\"dataframe\">\n",
       "  <thead>\n",
       "    <tr style=\"text-align: right;\">\n",
       "      <th></th>\n",
       "      <th>betweenness</th>\n",
       "      <th>eigenvector</th>\n",
       "      <th>degree_cent</th>\n",
       "      <th>degree</th>\n",
       "    </tr>\n",
       "  </thead>\n",
       "  <tbody>\n",
       "    <tr>\n",
       "      <th>count</th>\n",
       "      <td>2323.000000</td>\n",
       "      <td>2.323000e+03</td>\n",
       "      <td>2323.000000</td>\n",
       "      <td>2323.000000</td>\n",
       "    </tr>\n",
       "    <tr>\n",
       "      <th>mean</th>\n",
       "      <td>0.000184</td>\n",
       "      <td>1.914071e-02</td>\n",
       "      <td>0.590655</td>\n",
       "      <td>1371.501507</td>\n",
       "    </tr>\n",
       "    <tr>\n",
       "      <th>std</th>\n",
       "      <td>0.000197</td>\n",
       "      <td>8.008657e-03</td>\n",
       "      <td>0.250732</td>\n",
       "      <td>582.199573</td>\n",
       "    </tr>\n",
       "    <tr>\n",
       "      <th>min</th>\n",
       "      <td>0.000000</td>\n",
       "      <td>7.846339e-25</td>\n",
       "      <td>0.000000</td>\n",
       "      <td>0.000000</td>\n",
       "    </tr>\n",
       "    <tr>\n",
       "      <th>25%</th>\n",
       "      <td>0.000032</td>\n",
       "      <td>1.468461e-02</td>\n",
       "      <td>0.440784</td>\n",
       "      <td>1023.500000</td>\n",
       "    </tr>\n",
       "    <tr>\n",
       "      <th>50%</th>\n",
       "      <td>0.000129</td>\n",
       "      <td>2.278941e-02</td>\n",
       "      <td>0.690353</td>\n",
       "      <td>1603.000000</td>\n",
       "    </tr>\n",
       "    <tr>\n",
       "      <th>75%</th>\n",
       "      <td>0.000276</td>\n",
       "      <td>2.525565e-02</td>\n",
       "      <td>0.787037</td>\n",
       "      <td>1827.500000</td>\n",
       "    </tr>\n",
       "    <tr>\n",
       "      <th>max</th>\n",
       "      <td>0.002263</td>\n",
       "      <td>2.713262e-02</td>\n",
       "      <td>0.889750</td>\n",
       "      <td>2066.000000</td>\n",
       "    </tr>\n",
       "  </tbody>\n",
       "</table>\n",
       "</div>"
      ],
      "text/plain": [
       "       betweenness   eigenvector  degree_cent       degree\n",
       "count  2323.000000  2.323000e+03  2323.000000  2323.000000\n",
       "mean      0.000184  1.914071e-02     0.590655  1371.501507\n",
       "std       0.000197  8.008657e-03     0.250732   582.199573\n",
       "min       0.000000  7.846339e-25     0.000000     0.000000\n",
       "25%       0.000032  1.468461e-02     0.440784  1023.500000\n",
       "50%       0.000129  2.278941e-02     0.690353  1603.000000\n",
       "75%       0.000276  2.525565e-02     0.787037  1827.500000\n",
       "max       0.002263  2.713262e-02     0.889750  2066.000000"
      ]
     },
     "execution_count": 9,
     "metadata": {},
     "output_type": "execute_result"
    }
   ],
   "source": [
    "\n",
    "# Construct dataframe from list of dictionaries.\n",
    "centrality = [betweenness_dict, eigenvector_dict, degree_cent_dict]\n",
    "\n",
    "centrality = {k: [d[k] for d in centrality] for k in centrality[0]}\n",
    "\n",
    "centrality = pd.DataFrame(centrality.items(), columns = ['source', 'centrality'])\n",
    "\n",
    "centrality[['betweenness', \n",
    "            'eigenvector', \n",
    "            'degree_cent']] = pd.DataFrame(centrality['centrality'].tolist(), index = centrality.index)\n",
    "\n",
    "centrality = centrality.drop(columns = ['centrality'])\n",
    "\n",
    "# Join with degree info.\n",
    "sorted_degree = sorted( dict( G.degree(G.nodes()) ).items(), key = itemgetter(1), reverse = True)\n",
    "sorted_degree_df = pd.DataFrame(sorted_degree, columns = ['source', 'degree'])\n",
    "\n",
    "centrality = centrality.merge(sorted_degree_df, on = 'source', how = 'inner')\n",
    "\n",
    "centrality.describe()"
   ]
  },
  {
   "cell_type": "markdown",
   "id": "ba5ee05b",
   "metadata": {},
   "source": [
    "### Betweenness Ranking"
   ]
  },
  {
   "cell_type": "code",
   "execution_count": 10,
   "id": "7a709406",
   "metadata": {},
   "outputs": [
    {
     "name": "stdout",
     "output_type": "stream",
     "text": [
      "CPU times: user 4.12 ms, sys: 2.03 ms, total: 6.15 ms\n",
      "Wall time: 4.7 ms\n"
     ]
    },
    {
     "data": {
      "text/html": [
       "<div>\n",
       "<style scoped>\n",
       "    .dataframe tbody tr th:only-of-type {\n",
       "        vertical-align: middle;\n",
       "    }\n",
       "\n",
       "    .dataframe tbody tr th {\n",
       "        vertical-align: top;\n",
       "    }\n",
       "\n",
       "    .dataframe thead th {\n",
       "        text-align: right;\n",
       "    }\n",
       "</style>\n",
       "<table border=\"1\" class=\"dataframe\">\n",
       "  <thead>\n",
       "    <tr style=\"text-align: right;\">\n",
       "      <th></th>\n",
       "      <th>index</th>\n",
       "      <th>source</th>\n",
       "      <th>betweenness</th>\n",
       "      <th>eigenvector</th>\n",
       "      <th>degree_cent</th>\n",
       "      <th>degree</th>\n",
       "      <th>rank</th>\n",
       "    </tr>\n",
       "  </thead>\n",
       "  <tbody>\n",
       "    <tr>\n",
       "      <th>0</th>\n",
       "      <td>673</td>\n",
       "      <td>3192_man</td>\n",
       "      <td>0.002263</td>\n",
       "      <td>2.563807e-02</td>\n",
       "      <td>0.805340</td>\n",
       "      <td>1870</td>\n",
       "      <td>1</td>\n",
       "    </tr>\n",
       "    <tr>\n",
       "      <th>1</th>\n",
       "      <td>735</td>\n",
       "      <td>4981_egoist</td>\n",
       "      <td>0.001831</td>\n",
       "      <td>4.426356e-03</td>\n",
       "      <td>0.145995</td>\n",
       "      <td>339</td>\n",
       "      <td>2</td>\n",
       "    </tr>\n",
       "    <tr>\n",
       "      <th>2</th>\n",
       "      <td>813</td>\n",
       "      <td>7883_man</td>\n",
       "      <td>0.001818</td>\n",
       "      <td>1.895638e-02</td>\n",
       "      <td>0.567614</td>\n",
       "      <td>1318</td>\n",
       "      <td>3</td>\n",
       "    </tr>\n",
       "    <tr>\n",
       "      <th>3</th>\n",
       "      <td>2173</td>\n",
       "      <td>7605_egoist</td>\n",
       "      <td>0.001646</td>\n",
       "      <td>3.147002e-03</td>\n",
       "      <td>0.115848</td>\n",
       "      <td>269</td>\n",
       "      <td>4</td>\n",
       "    </tr>\n",
       "    <tr>\n",
       "      <th>4</th>\n",
       "      <td>1130</td>\n",
       "      <td>2785_man</td>\n",
       "      <td>0.001534</td>\n",
       "      <td>2.143819e-02</td>\n",
       "      <td>0.640827</td>\n",
       "      <td>1488</td>\n",
       "      <td>5</td>\n",
       "    </tr>\n",
       "    <tr>\n",
       "      <th>...</th>\n",
       "      <td>...</td>\n",
       "      <td>...</td>\n",
       "      <td>...</td>\n",
       "      <td>...</td>\n",
       "      <td>...</td>\n",
       "      <td>...</td>\n",
       "      <td>...</td>\n",
       "    </tr>\n",
       "    <tr>\n",
       "      <th>2318</th>\n",
       "      <td>2286</td>\n",
       "      <td>6345_man</td>\n",
       "      <td>0.000000</td>\n",
       "      <td>3.942237e-06</td>\n",
       "      <td>0.000861</td>\n",
       "      <td>2</td>\n",
       "      <td>2319</td>\n",
       "    </tr>\n",
       "    <tr>\n",
       "      <th>2319</th>\n",
       "      <td>2281</td>\n",
       "      <td>4183_man</td>\n",
       "      <td>0.000000</td>\n",
       "      <td>1.403982e-04</td>\n",
       "      <td>0.004307</td>\n",
       "      <td>10</td>\n",
       "      <td>2320</td>\n",
       "    </tr>\n",
       "    <tr>\n",
       "      <th>2320</th>\n",
       "      <td>2263</td>\n",
       "      <td>446_woman</td>\n",
       "      <td>0.000000</td>\n",
       "      <td>7.498946e-05</td>\n",
       "      <td>0.002153</td>\n",
       "      <td>5</td>\n",
       "      <td>2321</td>\n",
       "    </tr>\n",
       "    <tr>\n",
       "      <th>2321</th>\n",
       "      <td>2150</td>\n",
       "      <td>3623_woman</td>\n",
       "      <td>0.000000</td>\n",
       "      <td>6.778159e-05</td>\n",
       "      <td>0.002153</td>\n",
       "      <td>5</td>\n",
       "      <td>2322</td>\n",
       "    </tr>\n",
       "    <tr>\n",
       "      <th>2322</th>\n",
       "      <td>2322</td>\n",
       "      <td>source</td>\n",
       "      <td>0.000000</td>\n",
       "      <td>7.846339e-25</td>\n",
       "      <td>0.000000</td>\n",
       "      <td>0</td>\n",
       "      <td>2323</td>\n",
       "    </tr>\n",
       "  </tbody>\n",
       "</table>\n",
       "<p>2323 rows × 7 columns</p>\n",
       "</div>"
      ],
      "text/plain": [
       "      index       source  betweenness   eigenvector  degree_cent  degree  rank\n",
       "0       673     3192_man     0.002263  2.563807e-02     0.805340    1870     1\n",
       "1       735  4981_egoist     0.001831  4.426356e-03     0.145995     339     2\n",
       "2       813     7883_man     0.001818  1.895638e-02     0.567614    1318     3\n",
       "3      2173  7605_egoist     0.001646  3.147002e-03     0.115848     269     4\n",
       "4      1130     2785_man     0.001534  2.143819e-02     0.640827    1488     5\n",
       "...     ...          ...          ...           ...          ...     ...   ...\n",
       "2318   2286     6345_man     0.000000  3.942237e-06     0.000861       2  2319\n",
       "2319   2281     4183_man     0.000000  1.403982e-04     0.004307      10  2320\n",
       "2320   2263    446_woman     0.000000  7.498946e-05     0.002153       5  2321\n",
       "2321   2150   3623_woman     0.000000  6.778159e-05     0.002153       5  2322\n",
       "2322   2322       source     0.000000  7.846339e-25     0.000000       0  2323\n",
       "\n",
       "[2323 rows x 7 columns]"
      ]
     },
     "execution_count": 10,
     "metadata": {},
     "output_type": "execute_result"
    }
   ],
   "source": [
    "%%time\n",
    "\n",
    "# Rank betweenness.\n",
    "betweenness_ranking = centrality.sort_values(by = ['betweenness'], ascending = False).reset_index()\n",
    "betweenness_ranking['rank'] = betweenness_ranking.index + 1\n",
    "\n",
    "betweenness_ranking"
   ]
  },
  {
   "cell_type": "markdown",
   "id": "4c46d572",
   "metadata": {},
   "source": [
    "### Filter edges where top 50 betweenness ranks appear."
   ]
  },
  {
   "cell_type": "code",
   "execution_count": 14,
   "id": "741fc891",
   "metadata": {},
   "outputs": [
    {
     "data": {
      "text/html": [
       "<div>\n",
       "<style scoped>\n",
       "    .dataframe tbody tr th:only-of-type {\n",
       "        vertical-align: middle;\n",
       "    }\n",
       "\n",
       "    .dataframe tbody tr th {\n",
       "        vertical-align: top;\n",
       "    }\n",
       "\n",
       "    .dataframe thead th {\n",
       "        text-align: right;\n",
       "    }\n",
       "</style>\n",
       "<table border=\"1\" class=\"dataframe\">\n",
       "  <thead>\n",
       "    <tr style=\"text-align: right;\">\n",
       "      <th></th>\n",
       "      <th>index</th>\n",
       "      <th>source</th>\n",
       "      <th>betweenness</th>\n",
       "      <th>eigenvector</th>\n",
       "      <th>degree_cent</th>\n",
       "      <th>degree</th>\n",
       "      <th>rank</th>\n",
       "    </tr>\n",
       "  </thead>\n",
       "  <tbody>\n",
       "    <tr>\n",
       "      <th>28</th>\n",
       "      <td>860</td>\n",
       "      <td>5887_egoism</td>\n",
       "      <td>0.000798</td>\n",
       "      <td>0.002032</td>\n",
       "      <td>0.078381</td>\n",
       "      <td>182</td>\n",
       "      <td>29</td>\n",
       "    </tr>\n",
       "    <tr>\n",
       "      <th>27</th>\n",
       "      <td>858</td>\n",
       "      <td>5517_egoism</td>\n",
       "      <td>0.000819</td>\n",
       "      <td>0.002032</td>\n",
       "      <td>0.078811</td>\n",
       "      <td>183</td>\n",
       "      <td>28</td>\n",
       "    </tr>\n",
       "    <tr>\n",
       "      <th>7</th>\n",
       "      <td>857</td>\n",
       "      <td>4344_egoist</td>\n",
       "      <td>0.001105</td>\n",
       "      <td>0.002952</td>\n",
       "      <td>0.105082</td>\n",
       "      <td>244</td>\n",
       "      <td>8</td>\n",
       "    </tr>\n",
       "    <tr>\n",
       "      <th>3</th>\n",
       "      <td>2173</td>\n",
       "      <td>7605_egoist</td>\n",
       "      <td>0.001646</td>\n",
       "      <td>0.003147</td>\n",
       "      <td>0.115848</td>\n",
       "      <td>269</td>\n",
       "      <td>4</td>\n",
       "    </tr>\n",
       "    <tr>\n",
       "      <th>1</th>\n",
       "      <td>735</td>\n",
       "      <td>4981_egoist</td>\n",
       "      <td>0.001831</td>\n",
       "      <td>0.004426</td>\n",
       "      <td>0.145995</td>\n",
       "      <td>339</td>\n",
       "      <td>2</td>\n",
       "    </tr>\n",
       "  </tbody>\n",
       "</table>\n",
       "</div>"
      ],
      "text/plain": [
       "    index       source  betweenness  eigenvector  degree_cent  degree  rank\n",
       "28    860  5887_egoism     0.000798     0.002032     0.078381     182    29\n",
       "27    858  5517_egoism     0.000819     0.002032     0.078811     183    28\n",
       "7     857  4344_egoist     0.001105     0.002952     0.105082     244     8\n",
       "3    2173  7605_egoist     0.001646     0.003147     0.115848     269     4\n",
       "1     735  4981_egoist     0.001831     0.004426     0.145995     339     2"
      ]
     },
     "execution_count": 14,
     "metadata": {},
     "output_type": "execute_result"
    }
   ],
   "source": [
    "betweenness_subset = betweenness_ranking.query('rank <= 50').sort_values(by = ['degree'], ascending = True)\n",
    "\n",
    "betweenness_subset.head()"
   ]
  },
  {
   "cell_type": "code",
   "execution_count": 16,
   "id": "bd5aa124",
   "metadata": {},
   "outputs": [
    {
     "data": {
      "image/png": "[encoded data removed]",
      "text/plain": [
       "<Figure size 1600x800 with 1 Axes>"
      ]
     },
     "metadata": {},
     "output_type": "display_data"
    },
    {
     "name": "stdout",
     "output_type": "stream",
     "text": [
      "CPU times: user 347 ms, sys: 46.3 ms, total: 393 ms\n",
      "Wall time: 395 ms\n"
     ]
    }
   ],
   "source": [
    "%%time\n",
    "\n",
    "font = {'family': 'serif', 'weight': 'normal', 'size': 12}\n",
    "plt.rc('font', **font)\n",
    "plt.figure(figsize = (16, 8))\n",
    "\n",
    "ax = sns.regplot(data = betweenness_subset, x = 'rank', y = 'degree',\n",
    "                 scatter_kws = {'alpha': 0.2})\n",
    "\n",
    "# label points on the plot only if they are higher than the mean\n",
    "for x, y, z in zip(between_sub['rank'], between_sub['degree'], between_sub['source']):\n",
    "    if x < 200 and y < 250:\n",
    "        plt.text(x = x + 1, # x-coordinate position of data label\n",
    "                 y = y,\n",
    "                 s = z, # data label\n",
    "                 color = 'black') # set colour of line\n",
    "        \n",
    "plt.show()"
   ]
  },
  {
   "cell_type": "markdown",
   "id": "bc913f8c",
   "metadata": {},
   "source": [
    "## Betweenness Network"
   ]
  },
  {
   "cell_type": "code",
   "execution_count": 22,
   "id": "42da6abf",
   "metadata": {},
   "outputs": [
    {
     "ename": "KeyError",
     "evalue": "'source'",
     "output_type": "error",
     "traceback": [
      "\u001b[0;31m---------------------------------------------------------------------------\u001b[0m",
      "\u001b[0;31mKeyError\u001b[0m                                  Traceback (most recent call last)",
      "\u001b[0;32m<timed exec>\u001b[0m in \u001b[0;36m<module>\u001b[0;34m\u001b[0m\n",
      "\u001b[0;32m<timed exec>\u001b[0m in \u001b[0;36m<listcomp>\u001b[0;34m(.0)\u001b[0m\n",
      "\u001b[0;31mKeyError\u001b[0m: 'source'"
     ]
    }
   ],
   "source": [
    "%%time\n",
    "\n",
    "subset_sources = betweenness_subset['source'].values\n",
    "\n",
    "subset_nodes = [n for n,v in G.nodes(data=True) if v['source'].isin(subset_sources)]\n",
    "\n",
    "H = G.subgraph(selected_nodes)"
   ]
  },
  {
   "cell_type": "code",
   "execution_count": null,
   "id": "c8cae564",
   "metadata": {},
   "outputs": [],
   "source": []
  }
 ],
 "metadata": {
  "kernelspec": {
   "display_name": "Python 3",
   "language": "python",
   "name": "python3"
  },
  "language_info": {
   "codemirror_mode": {
    "name": "ipython",
    "version": 3
   },
   "file_extension": ".py",
   "mimetype": "text/x-python",
   "name": "python",
   "nbconvert_exporter": "python",
   "pygments_lexer": "ipython3",
   "version": "3.8.12"
  }
 },
 "nbformat": 4,
 "nbformat_minor": 5
}
