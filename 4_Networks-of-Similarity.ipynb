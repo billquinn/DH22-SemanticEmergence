{
 "cells": [
  {
   "cell_type": "markdown",
   "id": "d54817ff",
   "metadata": {},
   "source": [
    "# Network of Vector Similarity"
   ]
  },
  {
   "cell_type": "code",
   "execution_count": 1,
   "id": "d88a0e19",
   "metadata": {},
   "outputs": [
    {
     "name": "stderr",
     "output_type": "stream",
     "text": [
      "/Users/williamquinn/opt/anaconda3/lib/python3.8/site-packages/gensim/similarities/__init__.py:15: UserWarning: The gensim.similarities.levenshtein submodule is disabled, because the optional Levenshtein package <https://pypi.org/project/python-Levenshtein/> is unavailable. Install Levenhstein (e.g. `pip install python-Levenshtein`) to suppress this warning.\n",
      "  warnings.warn(msg)\n"
     ]
    }
   ],
   "source": [
    "import os, string, warnings, glob, gensim, re, itertools, math, json\n",
    "import pandas as pd\n",
    "import numpy as np\n",
    "import seaborn as sns\n",
    "import matplotlib.pyplot as plt\n",
    "\n",
    "# Network libraries.\n",
    "import networkx as nx\n",
    "from networkx.algorithms import community\n",
    "from networkx.readwrite import json_graph\n",
    "\n",
    "# Ignore warnings.\n",
    "warnings.simplefilter(\"ignore\")\n",
    "\n",
    "# Declare directory.\n",
    "abs_dir = \"/Users/williamquinn/Documents/DH/\""
   ]
  },
  {
   "cell_type": "markdown",
   "id": "2fd5767e",
   "metadata": {},
   "source": [
    "## Import Data"
   ]
  },
  {
   "cell_type": "code",
   "execution_count": 2,
   "id": "9a427407",
   "metadata": {},
   "outputs": [
    {
     "name": "stdout",
     "output_type": "stream",
     "text": [
      "CPU times: user 1.92 s, sys: 65.7 ms, total: 1.99 s\n",
      "Wall time: 2.05 s\n"
     ]
    },
    {
     "data": {
      "text/html": [
       "<div>\n",
       "<style scoped>\n",
       "    .dataframe tbody tr th:only-of-type {\n",
       "        vertical-align: middle;\n",
       "    }\n",
       "\n",
       "    .dataframe tbody tr th {\n",
       "        vertical-align: top;\n",
       "    }\n",
       "\n",
       "    .dataframe thead th {\n",
       "        text-align: right;\n",
       "    }\n",
       "</style>\n",
       "<table border=\"1\" class=\"dataframe\">\n",
       "  <thead>\n",
       "    <tr style=\"text-align: right;\">\n",
       "      <th></th>\n",
       "      <th>meta_mjp_id</th>\n",
       "      <th>meta_magazine</th>\n",
       "      <th>meta_type</th>\n",
       "      <th>meta_date</th>\n",
       "      <th>meta_year</th>\n",
       "      <th>vector</th>\n",
       "      <th>keyword</th>\n",
       "      <th>mean</th>\n",
       "      <th>count</th>\n",
       "      <th>std</th>\n",
       "      <th>ci_hi</th>\n",
       "      <th>ci_lo</th>\n",
       "    </tr>\n",
       "  </thead>\n",
       "  <tbody>\n",
       "    <tr>\n",
       "      <th>86</th>\n",
       "      <td>84</td>\n",
       "      <td>Marsden Magazines</td>\n",
       "      <td>articles</td>\n",
       "      <td>1918-08-01</td>\n",
       "      <td>1918</td>\n",
       "      <td>84_man</td>\n",
       "      <td>man</td>\n",
       "      <td>0.743164</td>\n",
       "      <td>41</td>\n",
       "      <td>0.016943</td>\n",
       "      <td>0.748350</td>\n",
       "      <td>0.737978</td>\n",
       "    </tr>\n",
       "    <tr>\n",
       "      <th>88</th>\n",
       "      <td>91</td>\n",
       "      <td>Marsden Magazines</td>\n",
       "      <td>articles</td>\n",
       "      <td>1914-08-01</td>\n",
       "      <td>1914</td>\n",
       "      <td>91_ego</td>\n",
       "      <td>ego</td>\n",
       "      <td>0.636399</td>\n",
       "      <td>41</td>\n",
       "      <td>0.053830</td>\n",
       "      <td>0.652877</td>\n",
       "      <td>0.619922</td>\n",
       "    </tr>\n",
       "    <tr>\n",
       "      <th>89</th>\n",
       "      <td>91</td>\n",
       "      <td>Marsden Magazines</td>\n",
       "      <td>articles</td>\n",
       "      <td>1914-08-01</td>\n",
       "      <td>1914</td>\n",
       "      <td>91_man</td>\n",
       "      <td>man</td>\n",
       "      <td>0.745765</td>\n",
       "      <td>41</td>\n",
       "      <td>0.013875</td>\n",
       "      <td>0.750012</td>\n",
       "      <td>0.741518</td>\n",
       "    </tr>\n",
       "    <tr>\n",
       "      <th>90</th>\n",
       "      <td>91</td>\n",
       "      <td>Marsden Magazines</td>\n",
       "      <td>articles</td>\n",
       "      <td>1914-08-01</td>\n",
       "      <td>1914</td>\n",
       "      <td>91_woman</td>\n",
       "      <td>woman</td>\n",
       "      <td>0.675112</td>\n",
       "      <td>41</td>\n",
       "      <td>0.018317</td>\n",
       "      <td>0.680719</td>\n",
       "      <td>0.669505</td>\n",
       "    </tr>\n",
       "    <tr>\n",
       "      <th>91</th>\n",
       "      <td>91</td>\n",
       "      <td>Marsden Magazines</td>\n",
       "      <td>articles</td>\n",
       "      <td>1914-08-01</td>\n",
       "      <td>1914</td>\n",
       "      <td>91_ego</td>\n",
       "      <td>ego</td>\n",
       "      <td>0.636399</td>\n",
       "      <td>41</td>\n",
       "      <td>0.053830</td>\n",
       "      <td>0.652877</td>\n",
       "      <td>0.619922</td>\n",
       "    </tr>\n",
       "  </tbody>\n",
       "</table>\n",
       "</div>"
      ],
      "text/plain": [
       "    meta_mjp_id      meta_magazine meta_type   meta_date  meta_year    vector  \\\n",
       "86           84  Marsden Magazines  articles  1918-08-01       1918    84_man   \n",
       "88           91  Marsden Magazines  articles  1914-08-01       1914    91_ego   \n",
       "89           91  Marsden Magazines  articles  1914-08-01       1914    91_man   \n",
       "90           91  Marsden Magazines  articles  1914-08-01       1914  91_woman   \n",
       "91           91  Marsden Magazines  articles  1914-08-01       1914    91_ego   \n",
       "\n",
       "   keyword      mean  count       std     ci_hi     ci_lo  \n",
       "86     man  0.743164     41  0.016943  0.748350  0.737978  \n",
       "88     ego  0.636399     41  0.053830  0.652877  0.619922  \n",
       "89     man  0.745765     41  0.013875  0.750012  0.741518  \n",
       "90   woman  0.675112     41  0.018317  0.680719  0.669505  \n",
       "91     ego  0.636399     41  0.053830  0.652877  0.619922  "
      ]
     },
     "execution_count": 2,
     "metadata": {},
     "output_type": "execute_result"
    }
   ],
   "source": [
    "%%time\n",
    "\n",
    "# Import model.\n",
    "model = gensim.models.KeyedVectors.load_word2vec_format(abs_dir + 'Python/MJP/Word-Doc_Vectors/Models/mjp_w2v.txt')\n",
    "\n",
    "# Import dataframe.\n",
    "data = pd.read_csv(abs_dir + 'GitHub/DH2022_SemanticEmergence/Data_Outputs/new-vectors_CI.csv', \n",
    "                   sep = '\\t')\n",
    "\n",
    "data = data.query('(meta_type == \"articles\") & (meta_magazine == \"Marsden Magazines\")')\n",
    "\n",
    "data.head()"
   ]
  },
  {
   "cell_type": "markdown",
   "id": "d957eb62",
   "metadata": {},
   "source": [
    "## Build Network Dataframe of Similarities"
   ]
  },
  {
   "cell_type": "code",
   "execution_count": 3,
   "id": "aaeff8f6",
   "metadata": {},
   "outputs": [
    {
     "name": "stdout",
     "output_type": "stream",
     "text": [
      "(331200, 3)\n",
      "CPU times: user 2min 14s, sys: 464 ms, total: 2min 15s\n",
      "Wall time: 2min 15s\n"
     ]
    },
    {
     "data": {
      "text/html": [
       "<div>\n",
       "<style scoped>\n",
       "    .dataframe tbody tr th:only-of-type {\n",
       "        vertical-align: middle;\n",
       "    }\n",
       "\n",
       "    .dataframe tbody tr th {\n",
       "        vertical-align: top;\n",
       "    }\n",
       "\n",
       "    .dataframe thead th {\n",
       "        text-align: right;\n",
       "    }\n",
       "</style>\n",
       "<table border=\"1\" class=\"dataframe\">\n",
       "  <thead>\n",
       "    <tr style=\"text-align: right;\">\n",
       "      <th></th>\n",
       "      <th>source</th>\n",
       "      <th>target</th>\n",
       "      <th>weight</th>\n",
       "    </tr>\n",
       "  </thead>\n",
       "  <tbody>\n",
       "    <tr>\n",
       "      <th>0</th>\n",
       "      <td>84_man</td>\n",
       "      <td>84_man</td>\n",
       "      <td>1.000000</td>\n",
       "    </tr>\n",
       "    <tr>\n",
       "      <th>1</th>\n",
       "      <td>84_man</td>\n",
       "      <td>91_ego</td>\n",
       "      <td>0.692403</td>\n",
       "    </tr>\n",
       "    <tr>\n",
       "      <th>2</th>\n",
       "      <td>84_man</td>\n",
       "      <td>91_man</td>\n",
       "      <td>0.886667</td>\n",
       "    </tr>\n",
       "    <tr>\n",
       "      <th>3</th>\n",
       "      <td>84_man</td>\n",
       "      <td>91_woman</td>\n",
       "      <td>0.657972</td>\n",
       "    </tr>\n",
       "    <tr>\n",
       "      <th>10</th>\n",
       "      <td>84_man</td>\n",
       "      <td>95_egoism</td>\n",
       "      <td>0.622812</td>\n",
       "    </tr>\n",
       "  </tbody>\n",
       "</table>\n",
       "</div>"
      ],
      "text/plain": [
       "    source     target    weight\n",
       "0   84_man     84_man  1.000000\n",
       "1   84_man     91_ego  0.692403\n",
       "2   84_man     91_man  0.886667\n",
       "3   84_man   91_woman  0.657972\n",
       "10  84_man  95_egoism  0.622812"
      ]
     },
     "execution_count": 3,
     "metadata": {},
     "output_type": "execute_result"
    }
   ],
   "source": [
    "%%time\n",
    "\n",
    "edges = []\n",
    "\n",
    "# Gather doc-to-doc similarities.\n",
    "for idx, row in data.iterrows():\n",
    "    source = row['vector']\n",
    "    \n",
    "    for sidx, srow in data.iterrows():\n",
    "        target = srow['vector']\n",
    "        weight = model.similarity(source, target)\n",
    "        \n",
    "        edges.append((source, target, weight))\n",
    "        \n",
    "edges = pd.DataFrame(edges, columns = ('source', 'target', 'weight'))\n",
    "\n",
    "# Gather doc-to-keyword similarities & append.\n",
    "keywords = data[['vector', 'keyword', 'mean']]\n",
    "keywords = keywords.rename(columns = {'vector': 'source', 'keyword':'target', 'mean':'weight'})\n",
    "\n",
    "edges = pd.concat([edges, keywords], ignore_index = True).drop_duplicates()\n",
    "\n",
    "print (edges.shape)\n",
    "edges.head()"
   ]
  },
  {
   "cell_type": "markdown",
   "id": "b68b480e",
   "metadata": {},
   "source": [
    "### Filter Edges by Date"
   ]
  },
  {
   "cell_type": "code",
   "execution_count": 4,
   "id": "ba3bfcf0",
   "metadata": {},
   "outputs": [
    {
     "name": "stdout",
     "output_type": "stream",
     "text": [
      "(163655, 5)\n",
      "CPU times: user 724 ms, sys: 106 ms, total: 829 ms\n",
      "Wall time: 851 ms\n"
     ]
    },
    {
     "data": {
      "text/html": [
       "<div>\n",
       "<style scoped>\n",
       "    .dataframe tbody tr th:only-of-type {\n",
       "        vertical-align: middle;\n",
       "    }\n",
       "\n",
       "    .dataframe tbody tr th {\n",
       "        vertical-align: top;\n",
       "    }\n",
       "\n",
       "    .dataframe thead th {\n",
       "        text-align: right;\n",
       "    }\n",
       "</style>\n",
       "<table border=\"1\" class=\"dataframe\">\n",
       "  <thead>\n",
       "    <tr style=\"text-align: right;\">\n",
       "      <th></th>\n",
       "      <th>source</th>\n",
       "      <th>target</th>\n",
       "      <th>weight</th>\n",
       "      <th>source_date</th>\n",
       "      <th>target_date</th>\n",
       "    </tr>\n",
       "  </thead>\n",
       "  <tbody>\n",
       "    <tr>\n",
       "      <th>1</th>\n",
       "      <td>91_ego</td>\n",
       "      <td>84_man</td>\n",
       "      <td>0.692403</td>\n",
       "      <td>1914-08-01</td>\n",
       "      <td>1918-08-01</td>\n",
       "    </tr>\n",
       "    <tr>\n",
       "      <th>2</th>\n",
       "      <td>91_man</td>\n",
       "      <td>84_man</td>\n",
       "      <td>0.886667</td>\n",
       "      <td>1914-08-01</td>\n",
       "      <td>1918-08-01</td>\n",
       "    </tr>\n",
       "    <tr>\n",
       "      <th>3</th>\n",
       "      <td>91_woman</td>\n",
       "      <td>84_man</td>\n",
       "      <td>0.657972</td>\n",
       "      <td>1914-08-01</td>\n",
       "      <td>1918-08-01</td>\n",
       "    </tr>\n",
       "    <tr>\n",
       "      <th>4</th>\n",
       "      <td>95_egoism</td>\n",
       "      <td>84_man</td>\n",
       "      <td>0.622812</td>\n",
       "      <td>1914-08-01</td>\n",
       "      <td>1918-08-01</td>\n",
       "    </tr>\n",
       "    <tr>\n",
       "      <th>5</th>\n",
       "      <td>174_man</td>\n",
       "      <td>84_man</td>\n",
       "      <td>0.639474</td>\n",
       "      <td>1913-11-01</td>\n",
       "      <td>1918-08-01</td>\n",
       "    </tr>\n",
       "  </tbody>\n",
       "</table>\n",
       "</div>"
      ],
      "text/plain": [
       "      source  target    weight source_date target_date\n",
       "1     91_ego  84_man  0.692403  1914-08-01  1918-08-01\n",
       "2     91_man  84_man  0.886667  1914-08-01  1918-08-01\n",
       "3   91_woman  84_man  0.657972  1914-08-01  1918-08-01\n",
       "4  95_egoism  84_man  0.622812  1914-08-01  1918-08-01\n",
       "5    174_man  84_man  0.639474  1913-11-01  1918-08-01"
      ]
     },
     "execution_count": 4,
     "metadata": {},
     "output_type": "execute_result"
    }
   ],
   "source": [
    "%%time\n",
    "\n",
    "dates = data[['meta_date', 'vector']].rename(columns = {'vector': 'source', 'meta_date':'source_date'})\n",
    "edges = pd.merge(edges, dates, how = 'inner').drop_duplicates()\n",
    "\n",
    "dates = dates.rename(columns = {'source': 'target', 'source_date':'target_date'})\n",
    "edges = pd.merge(edges, dates, how = 'inner').drop_duplicates()\n",
    "    \n",
    "edges = edges.query('source_date < target_date')\n",
    "\n",
    "del dates\n",
    "\n",
    "print (edges.shape)\n",
    "edges.head()"
   ]
  },
  {
   "cell_type": "markdown",
   "id": "d9489330",
   "metadata": {},
   "source": [
    "## Visualize Distribution of Similarity"
   ]
  },
  {
   "cell_type": "code",
   "execution_count": 5,
   "id": "0fe4fa27",
   "metadata": {},
   "outputs": [
    {
     "data": {
      "image/png": "[encoded data removed]",
      "text/plain": [
       "<Figure size 640x480 with 1 Axes>"
      ]
     },
     "metadata": {},
     "output_type": "display_data"
    },
    {
     "name": "stdout",
     "output_type": "stream",
     "text": [
      "CPU times: user 202 ms, sys: 26.4 ms, total: 228 ms\n",
      "Wall time: 275 ms\n"
     ]
    }
   ],
   "source": [
    "%%time\n",
    "\n",
    "plt.hist(edges['weight'], 10)\n",
    "plt.show()"
   ]
  },
  {
   "cell_type": "code",
   "execution_count": 6,
   "id": "8d2a347b",
   "metadata": {},
   "outputs": [
    {
     "data": {
      "image/png": "[encoded data removed]",
      "text/plain": [
       "<Figure size 640x480 with 1 Axes>"
      ]
     },
     "metadata": {},
     "output_type": "display_data"
    },
    {
     "name": "stdout",
     "output_type": "stream",
     "text": [
      "CPU times: user 165 ms, sys: 8.1 ms, total: 173 ms\n",
      "Wall time: 175 ms\n"
     ]
    }
   ],
   "source": [
    "%%time\n",
    "\n",
    "# Filter out weaker connections.\n",
    "edges = edges.query('(source != target) & (weight >= 0.9) & (weight < 1.000000)')\n",
    "\n",
    "plt.hist(edges['weight'], 10)\n",
    "plt.show()"
   ]
  },
  {
   "cell_type": "markdown",
   "id": "cb216d44",
   "metadata": {},
   "source": [
    "## Build Network Object\n",
    "\n",
    "Separate Graph of non-Marsden? Average per year of non-Marsden to Marsden by keyword?"
   ]
  },
  {
   "cell_type": "code",
   "execution_count": 7,
   "id": "9c874e9b",
   "metadata": {},
   "outputs": [
    {
     "name": "stdout",
     "output_type": "stream",
     "text": [
      "Graph with 375 nodes and 8480 edges\n",
      "CPU times: user 45.9 ms, sys: 4.02 ms, total: 49.9 ms\n",
      "Wall time: 51.3 ms\n"
     ]
    }
   ],
   "source": [
    "%%time\n",
    "\n",
    "# Initialize graph object.\n",
    "G = nx.from_pandas_edgelist(edges, 'source', 'target', ['weight'])\n",
    "\n",
    "# Add nodes.\n",
    "nodes = list( dict.fromkeys( edges['source'].values.tolist() + edges['target'].values.tolist() ))\n",
    "nodes = pd.DataFrame(nodes, columns = ['source'])\n",
    "G.add_nodes_from(nodes)\n",
    "\n",
    "print (nx.info(G))"
   ]
  },
  {
   "cell_type": "markdown",
   "id": "cf61cf13",
   "metadata": {},
   "source": [
    "### Network Metrics"
   ]
  },
  {
   "cell_type": "code",
   "execution_count": 8,
   "id": "484336e9",
   "metadata": {},
   "outputs": [
    {
     "name": "stdout",
     "output_type": "stream",
     "text": [
      "Network density: 0.121\n",
      "Is the network connected? False\n",
      "CPU times: user 1.68 ms, sys: 173 µs, total: 1.85 ms\n",
      "Wall time: 1.8 ms\n"
     ]
    }
   ],
   "source": [
    "%%time\n",
    "\n",
    "# Measure network density.\n",
    "density = nx.density(G)\n",
    "print (f\"Network density: {density:.3f}\")\n",
    "\n",
    "# Determine connectivity.\n",
    "print (f\"Is the network connected? {nx.is_connected(G)}\")"
   ]
  },
  {
   "cell_type": "markdown",
   "id": "79915c53",
   "metadata": {},
   "source": [
    "### Node Attributes"
   ]
  },
  {
   "cell_type": "code",
   "execution_count": 9,
   "id": "cede0234",
   "metadata": {},
   "outputs": [
    {
     "name": "stdout",
     "output_type": "stream",
     "text": [
      "...degrees assigned\n",
      "...betweenness measured\n",
      "...eigenvector measured\n",
      "...centrality measured\n",
      "CPU times: user 1.63 s, sys: 12.5 ms, total: 1.64 s\n",
      "Wall time: 1.65 s\n"
     ]
    }
   ],
   "source": [
    "%%time\n",
    "\n",
    "# Set degree attributes.\n",
    "nx.set_node_attributes(G, dict(G.degree(G.nodes())), 'degree') \n",
    "print ('...degrees assigned')\n",
    "\n",
    "# Find centrality measures.\n",
    "betweenness_dict = nx.betweenness_centrality(G)\n",
    "print ('...betweenness measured')\n",
    "eigenvector_dict = nx.eigenvector_centrality(G)\n",
    "print ('...eigenvector measured')\n",
    "degree_cent_dict = nx.degree_centrality(G)\n",
    "print ('...centrality measured')\n",
    "\n",
    "# Assign centrality measures.\n",
    "nx.set_node_attributes(G, betweenness_dict, 'betweenness')\n",
    "nx.set_node_attributes(G, eigenvector_dict, 'eigenvector')\n",
    "nx.set_node_attributes(G, degree_cent_dict, 'degree_cent')"
   ]
  },
  {
   "cell_type": "markdown",
   "id": "2838fd9a",
   "metadata": {},
   "source": [
    "### Find Communities\n",
    "\n",
    "Commented out because process takes too long; need to filter more."
   ]
  },
  {
   "cell_type": "code",
   "execution_count": 10,
   "id": "6783720c",
   "metadata": {},
   "outputs": [],
   "source": [
    "# %%time\n",
    "\n",
    "# communities= community.naive_greedy_modularity_communities(G)\n",
    "\n",
    "# modularity_dict = {}\n",
    "# for i, c in enumerate(communities):\n",
    "#     for name in c:\n",
    "#         modularity_dict[name] = i\n",
    "        \n",
    "# nx.set_node_attributes(G, modularity_dict, 'modularity')"
   ]
  },
  {
   "cell_type": "markdown",
   "id": "c30f8ddc",
   "metadata": {},
   "source": [
    "### Add Metadata as Node Attribute"
   ]
  },
  {
   "cell_type": "code",
   "execution_count": 11,
   "id": "885a1b7e",
   "metadata": {},
   "outputs": [
    {
     "name": "stdout",
     "output_type": "stream",
     "text": [
      "CPU times: user 3.89 s, sys: 16.3 ms, total: 3.9 s\n",
      "Wall time: 3.92 s\n"
     ]
    }
   ],
   "source": [
    "%%time\n",
    "\n",
    "# nodes = pd.DataFrame.from_dict(dict(G.nodes(data=True)), orient='index')\n",
    "\n",
    "# # Add metadata as node attributes.\n",
    "# nx.set_node_attributes(G, pd.Series(nodes.meta_mjp_id, index = nodes.index).to_dict(), 'mjp_id')\n",
    "# nx.set_node_attributes(G, pd.Series(nodes.meta_magazine, index = nodes.index).to_dict(), 'magazine')\n",
    "# nx.set_node_attributes(G, pd.Series(nodes.meta_type, index = nodes.index).to_dict(), 'genre')\n",
    "# nx.set_node_attributes(G, pd.Series(nodes.meta_date, index = nodes.index).to_dict(), 'date')\n",
    "# nx.set_node_attributes(G, pd.Series(nodes.meta_year, index = nodes.index).to_dict(), 'year')\n",
    "\n",
    "# Assign node metadata.\n",
    "for c in data.columns:\n",
    "    c_dict = {}\n",
    "    col_name = str(c).replace('meta_', '')\n",
    "    \n",
    "    for r in data.itertuples():    \n",
    "        c_dict[ r.vector ] = getattr(r, c)\n",
    "        \n",
    "        nx.set_node_attributes(G, c_dict, col_name)"
   ]
  },
  {
   "cell_type": "markdown",
   "id": "f4c03cb8",
   "metadata": {},
   "source": [
    "### Save Network Graph Object"
   ]
  },
  {
   "cell_type": "code",
   "execution_count": 12,
   "id": "67d98d44",
   "metadata": {},
   "outputs": [
    {
     "name": "stdout",
     "output_type": "stream",
     "text": [
      "CPU times: user 47.1 ms, sys: 5.97 ms, total: 53 ms\n",
      "Wall time: 55.6 ms\n"
     ]
    }
   ],
   "source": [
    "%%time\n",
    "\n",
    "graph = json_graph.node_link_data(G)\n",
    "\n",
    "graph_json = json.dumps(graph)\n",
    "\n",
    "with open(abs_dir + \"GitHub/DH2022_SemanticEmergence/Data_Outputs/network-vectors.json\", \"w\") as f:\n",
    "    f.write(graph_json)"
   ]
  },
  {
   "cell_type": "code",
   "execution_count": null,
   "id": "8b0134f2",
   "metadata": {},
   "outputs": [],
   "source": []
  }
 ],
 "metadata": {
  "kernelspec": {
   "display_name": "Python 3",
   "language": "python",
   "name": "python3"
  },
  "language_info": {
   "codemirror_mode": {
    "name": "ipython",
    "version": 3
   },
   "file_extension": ".py",
   "mimetype": "text/x-python",
   "name": "python",
   "nbconvert_exporter": "python",
   "pygments_lexer": "ipython3",
   "version": "3.8.12"
  }
 },
 "nbformat": 4,
 "nbformat_minor": 5
}
