{
 "cells": [
  {
   "cell_type": "markdown",
   "id": "9b2150c7",
   "metadata": {},
   "source": [
    "# Sentence Vectors\n",
    "\n",
    "Thomas Haider recommended I try simplifying the approach by using sentence embeddings. Once the model is created, I can then isolate sentences with gendered keywords."
   ]
  },
  {
   "cell_type": "code",
   "execution_count": null,
   "id": "9e512a06",
   "metadata": {},
   "outputs": [],
   "source": []
  }
 ],
 "metadata": {
  "kernelspec": {
   "display_name": "Python 3",
   "language": "python",
   "name": "python3"
  },
  "language_info": {
   "codemirror_mode": {
    "name": "ipython",
    "version": 3
   },
   "file_extension": ".py",
   "mimetype": "text/x-python",
   "name": "python",
   "nbconvert_exporter": "python",
   "pygments_lexer": "ipython3",
   "version": "3.8.12"
  }
 },
 "nbformat": 4,
 "nbformat_minor": 5
}
